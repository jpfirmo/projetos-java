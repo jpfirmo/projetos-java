{
  "nbformat": 4,
  "nbformat_minor": 0,
  "metadata": {
    "colab": {
      "provenance": [],
      "authorship_tag": "ABX9TyNvbf1rXaDA11AWPjqry0jv",
      "include_colab_link": true
    },
    "kernelspec": {
      "name": "python3",
      "display_name": "Python 3"
    },
    "language_info": {
      "name": "python"
    }
  },
  "cells": [
    {
      "cell_type": "markdown",
      "metadata": {
        "id": "view-in-github",
        "colab_type": "text"
      },
      "source": [
        "<a href=\"https://colab.research.google.com/github/jpfirmo/ol-_mundo/blob/main/colab_02.ipynb\" target=\"_parent\"><img src=\"https://colab.research.google.com/assets/colab-badge.svg\" alt=\"Open In Colab\"/></a>"
      ]
    },
    {
      "cell_type": "code",
      "execution_count": 1,
      "metadata": {
        "colab": {
          "base_uri": "https://localhost:8080/"
        },
        "id": "TWxrWlJxmGf4",
        "outputId": "71b889b0-79ca-4b0c-decd-de017de49e33"
      },
      "outputs": [
        {
          "output_type": "stream",
          "name": "stdout",
          "text": [
            "post github google colab\n",
            "joão pedro\n"
          ]
        }
      ],
      "source": [
        "print(\"post github google colab\")\n",
        "nome = \"joão pedro\"\n",
        "print(nome)"
      ]
    },
    {
      "cell_type": "code",
      "source": [
        "#tipo variável:\n",
        "type(nome)"
      ],
      "metadata": {
        "colab": {
          "base_uri": "https://localhost:8080/"
        },
        "id": "QgfAfXebmkCm",
        "outputId": "bc0a3eb2-895d-4bd2-cf39-3454fd0083c8"
      },
      "execution_count": 2,
      "outputs": [
        {
          "output_type": "execute_result",
          "data": {
            "text/plain": [
              "str"
            ]
          },
          "metadata": {},
          "execution_count": 2
        }
      ]
    },
    {
      "cell_type": "code",
      "source": [
        "nota1 = 8.9\n",
        "nota2 = 3.5\n",
        "nota3 = 8.1\n",
        "media = (nota1 + nota2 + nota3)/3\n",
        "print(media)"
      ],
      "metadata": {
        "colab": {
          "base_uri": "https://localhost:8080/"
        },
        "id": "DGCFb3OKmygG",
        "outputId": "d9a72307-ef84-4c2a-8c94-e80f2aa718f9"
      },
      "execution_count": 3,
      "outputs": [
        {
          "output_type": "stream",
          "name": "stdout",
          "text": [
            "6.833333333333333\n"
          ]
        }
      ]
    },
    {
      "cell_type": "code",
      "source": [
        "if(media > 7):\n",
        " print(\"aprovado\")\n",
        "else:\n",
        " print(\"reprovado\")"
      ],
      "metadata": {
        "colab": {
          "base_uri": "https://localhost:8080/"
        },
        "id": "3lG4JT7AnQ_2",
        "outputId": "870d678e-30d0-4f5c-8b61-b921d79b8f23"
      },
      "execution_count": 6,
      "outputs": [
        {
          "output_type": "stream",
          "name": "stdout",
          "text": [
            "reprovado\n"
          ]
        }
      ]
    },
    {
      "cell_type": "code",
      "source": [
        "print(\"por enquanto é só.\")\n",
        "print(\"fique a vontade para contribuir.\")\n"
      ],
      "metadata": {
        "colab": {
          "base_uri": "https://localhost:8080/"
        },
        "id": "r14flyi6oEEX",
        "outputId": "5a818e39-380a-4e93-d13f-82bd9850cc28"
      },
      "execution_count": 7,
      "outputs": [
        {
          "output_type": "stream",
          "name": "stdout",
          "text": [
            "por enquanto é só.\n",
            "fique a vontade para contribuir.\n"
          ]
        }
      ]
    }
  ]
}